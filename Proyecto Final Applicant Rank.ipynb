{
 "cells": [
  {
   "cell_type": "markdown",
   "metadata": {},
   "source": [
    "\n",
    "# Best Applicant Rank"
   ]
  },
  {
   "cell_type": "markdown",
   "metadata": {},
   "source": [
    "Actually, company is tool which helps to companies find applicants to many jobs in any area. besides it compites with other companies like bumeran, computrabajo, etc.\n",
    "In this case we are using applications and job posting datasets to understand the behavior of the data and try to apply some algorithms to predict some patterns that we could find."
   ]
  },
  {
   "cell_type": "markdown",
   "metadata": {},
   "source": [
    "## Load our data"
   ]
  },
  {
   "cell_type": "code",
   "execution_count": 1376,
   "metadata": {},
   "outputs": [],
   "source": [
    "import pandas as pd"
   ]
  },
  {
   "cell_type": "code",
   "execution_count": 1377,
   "metadata": {},
   "outputs": [
    {
     "name": "stderr",
     "output_type": "stream",
     "text": [
      "b'Skipping line 17234: expected 47 fields, saw 60\\nSkipping line 32595: expected 47 fields, saw 60\\n'\n",
      "b'Skipping line 274957: expected 47 fields, saw 60\\nSkipping line 275930: expected 47 fields, saw 60\\n'\n",
      "b'Skipping line 280065: expected 47 fields, saw 60\\n'\n"
     ]
    }
   ],
   "source": [
    "ds_applications = './data/dfapplications.csv'\n",
    "train_data_applicant = pd.read_csv(ds_applications, sep = '|', error_bad_lines=False, warn_bad_lines=True)"
   ]
  },
  {
   "cell_type": "markdown",
   "metadata": {},
   "source": [
    "## Data Cleanning"
   ]
  },
  {
   "cell_type": "code",
   "execution_count": 1378,
   "metadata": {},
   "outputs": [],
   "source": [
    "import re\n",
    "aux_data_applicant = train_data_applicant"
   ]
  },
  {
   "cell_type": "code",
   "execution_count": 1379,
   "metadata": {},
   "outputs": [
    {
     "data": {
      "text/plain": [
       "Index(['postulacion_es_descartado', 'postulacion_fecha',\n",
       "       'postulacion_es_nuevo', 'postulacion_origen', 'postulacion_es_invitado',\n",
       "       'postulacion_fecha_invitacion', 'postulacion_es_referenciado',\n",
       "       'postulacion_nombre_categoria', 'postulacion_aviso_mensaje_leido',\n",
       "       'postulacion_aviso_mensaje_no_leidos',\n",
       "       'postulacion_aviso_mensaje_por_responder',\n",
       "       'postulacion_aviso_mensaje_respondidos', 'postulacion_match',\n",
       "       'postulante_identificador', 'postulante_es_perfil_destacado',\n",
       "       'postulante_direccion', 'postulante_direccion_ubigeo',\n",
       "       'postulante_discapacidad', 'postulante_pais_nacionalidad',\n",
       "       'postulante_pais_residencia', 'postulante_edad',\n",
       "       'postulante_estado_civil', 'postulante_sexo',\n",
       "       'postulante_disponibilidad_mudarse',\n",
       "       'postulante_disponibilidad_a_viajar',\n",
       "       'postulante_recibir_noti_avisos_empleo',\n",
       "       'postulante_recibir_noti_info_mercado_laboral',\n",
       "       'postulante_longitud_presentacion', 'postulante_presentacion',\n",
       "       'postulante_ultima_actualizacion_perfil',\n",
       "       'postulante_pretension_salarial', 'postulante_tiene_fb',\n",
       "       'postulante_tiene_tw', 'postulante_tiene_experiencia',\n",
       "       'evaluacion_postulante_comunicacion',\n",
       "       'evaluacion_postulante_confiabilidad',\n",
       "       'evaluacion_postulante_psicolaborales', 'evaluacion_postulante_ingles',\n",
       "       'empleo_nombre_puesto', 'empleo_area_puesto', 'empleo_nivel_puesto',\n",
       "       'empleo_cantidad_postulantes', 'empleo_cantidad_invitaciones',\n",
       "       'empleo_tipo_puesto', 'empleo_modalidad_de_contrato',\n",
       "       'empleo_en_portada', 'empresa_nombre'],\n",
       "      dtype='object')"
      ]
     },
     "execution_count": 1379,
     "metadata": {},
     "output_type": "execute_result"
    }
   ],
   "source": [
    "train_data_applicant.columns"
   ]
  },
  {
   "cell_type": "code",
   "execution_count": 1380,
   "metadata": {},
   "outputs": [],
   "source": [
    "# Applications\n",
    "aux_data_applicant.drop('postulacion_es_nuevo', axis=1, inplace=True)\n",
    "aux_data_applicant.drop('postulacion_origen', axis=1, inplace=True)\n",
    "aux_data_applicant.drop('postulacion_fecha_invitacion', axis=1, inplace=True)\n",
    "aux_data_applicant.drop('postulacion_aviso_mensaje_no_leidos', axis=1, inplace=True)\n",
    "aux_data_applicant.drop('postulacion_aviso_mensaje_leido', axis=1, inplace=True)\n",
    "aux_data_applicant.drop('postulacion_aviso_mensaje_por_responder', axis=1, inplace=True)\n",
    "aux_data_applicant.drop('postulacion_aviso_mensaje_respondidos', axis=1, inplace=True)\n",
    "# Applicants\n",
    "aux_data_applicant.drop('postulante_es_perfil_destacado', axis=1, inplace=True)\n",
    "aux_data_applicant.drop('postulante_identificador', axis=1, inplace=True)\n",
    "aux_data_applicant.drop('postulante_pais_nacionalidad', axis=1, inplace=True)\n",
    "aux_data_applicant.drop('postulante_recibir_noti_avisos_empleo', axis=1, inplace=True)\n",
    "aux_data_applicant.drop('postulante_recibir_noti_info_mercado_laboral', axis=1, inplace=True)\n",
    "aux_data_applicant.drop('postulante_longitud_presentacion', axis=1, inplace=True)\n",
    "aux_data_applicant.drop('postulante_tiene_fb', axis=1, inplace=True)\n",
    "aux_data_applicant.drop('postulante_tiene_tw', axis=1, inplace=True)\n",
    "aux_data_applicant.drop('postulante_tiene_experiencia', axis=1, inplace=True)\n",
    "\n",
    "# in this case we are deleting this columns because, online evalutaions have not deplyoed yet in Production\n",
    "# but in the future this will be stronger variables.\n",
    "aux_data_applicant.drop('evaluacion_postulante_comunicacion', axis=1, inplace=True)\n",
    "aux_data_applicant.drop('evaluacion_postulante_confiabilidad', axis=1, inplace=True)\n",
    "aux_data_applicant.drop('evaluacion_postulante_psicolaborales', axis=1, inplace=True)\n",
    "aux_data_applicant.drop('evaluacion_postulante_ingles', axis=1, inplace=True)\n",
    "\n",
    "# Jobs\n",
    "aux_data_applicant.drop('empleo_cantidad_invitaciones', axis=1, inplace=True)\n",
    "aux_data_applicant.drop('empleo_en_portada', axis=1, inplace=True)"
   ]
  },
  {
   "cell_type": "markdown",
   "metadata": {},
   "source": [
    "## Feature Engenieering"
   ]
  },
  {
   "cell_type": "markdown",
   "metadata": {},
   "source": [
    " In this case we did a crin Script in python but is not deployed in production beacuse actually there are many porjects with \n",
    " hight priority. but here is the Group the Commerce Script where we define a logical ponderation with a psicologist\n",
    " \n",
    "\n",
    " https://bitbucket.org/orbisunt/aptitus-microservice-jobs/"
   ]
  },
  {
   "cell_type": "code",
   "execution_count": 1382,
   "metadata": {},
   "outputs": [],
   "source": [
    "### Match Porcentual\n",
    "import random\n",
    "from decimal import Decimal\n",
    "\n",
    "r1 = r\"(finalista|seleccionado|terna)\"\n",
    "r2 = r\"(?=.*(finalista|seleccionado|terna))(?=.*(sin|no|pre))\"\n",
    "\n",
    "match_percent_category = lambda p: round(random.uniform(60,100), 1) if re.search(\n",
    "    r1, p['postulacion_nombre_categoria'], re.I) and not re.search(\n",
    "    r2, p['postulacion_nombre_categoria'], re.I) else  round(random.uniform(10, 75), 1)"
   ]
  },
  {
   "cell_type": "code",
   "execution_count": 1383,
   "metadata": {},
   "outputs": [],
   "source": [
    "aux_data_applicant['flg_percent_match'] = aux_data_applicant.apply(match_percent_category, axis= 1)"
   ]
  },
  {
   "cell_type": "code",
   "execution_count": 1222,
   "metadata": {},
   "outputs": [
    {
     "data": {
      "image/png": "[encoded data removed]",
      "text/plain": [
       "<Figure size 540x540 with 1 Axes>"
      ]
     },
     "metadata": {},
     "output_type": "display_data"
    }
   ],
   "source": [
    "# (train_data_applicant.groupby('postulacion_nombre_categoria').size()).to_frame('count').sort_values(['count'], ascending=False)\n",
    "temp = train_data_applicant.groupby('postulacion_nombre_categoria').size().sort_values(ascending=False)\n",
    "temp = temp.head(15)\n",
    "df = pd.DataFrame([temp.index,temp],['postulacion_nombre_categoria','total'])\n",
    "df = df.transpose()\n",
    "\n",
    "length = len(df)\n",
    "fig, ax = plt.subplots(\n",
    "    figsize=(len(df)/2,\n",
    "             len(df)/2))\n",
    "\n",
    "pos = np.arange(length)\n",
    "ax = plt.gca()\n",
    "#ax.set_yticks([i for i in range(1,len(df)+1)])\n",
    "ax.barh(\n",
    "    pos,\n",
    "    df['total'],\n",
    "    align='center',\n",
    "    tick_label=df['postulacion_nombre_categoria'])\n",
    "ax.set_yticklabels(df['postulacion_nombre_categoria'],fontsize=10)\n",
    "\n",
    "plt.xticks(fontsize=10)\n",
    "# plt.tight_layout()\n",
    "plt.title('Number of Posted Job per every industry',fontsize=10,color='black')\n",
    "plt.savefig('job applications')\n",
    "plt.show() "
   ]
  },
  {
   "cell_type": "code",
   "execution_count": 1385,
   "metadata": {},
   "outputs": [],
   "source": [
    "### Verificar si ha estado dentro de la etapa finalista\n",
    "import re\n",
    "\n",
    "valid_finalist = lambda p: 1 if re.search(\n",
    "    r\"(finalista|seleccionado|terna)\", p['postulacion_nombre_categoria'], re.I)and not re.search(\n",
    "    r\"(?=.*(finalista|seleccionado|terna))(?=.*(sin|no|pre))\", p['postulacion_nombre_categoria'], re.I) else 0"
   ]
  },
  {
   "cell_type": "code",
   "execution_count": 1386,
   "metadata": {},
   "outputs": [],
   "source": [
    "aux_data_applicant['flg_finalista'] = aux_data_applicant.apply(valid_finalist, axis=1)"
   ]
  },
  {
   "cell_type": "code",
   "execution_count": 1227,
   "metadata": {},
   "outputs": [
    {
     "data": {
      "text/html": [
       "<div>\n",
       "<style scoped>\n",
       "    .dataframe tbody tr th:only-of-type {\n",
       "        vertical-align: middle;\n",
       "    }\n",
       "\n",
       "    .dataframe tbody tr th {\n",
       "        vertical-align: top;\n",
       "    }\n",
       "\n",
       "    .dataframe thead th {\n",
       "        text-align: right;\n",
       "    }\n",
       "</style>\n",
       "<table border=\"1\" class=\"dataframe\">\n",
       "  <thead>\n",
       "    <tr style=\"text-align: right;\">\n",
       "      <th></th>\n",
       "      <th>flg_finalista</th>\n",
       "      <th>counts</th>\n",
       "      <th>porcentaje</th>\n",
       "    </tr>\n",
       "  </thead>\n",
       "  <tbody>\n",
       "    <tr>\n",
       "      <th>0</th>\n",
       "      <td>0</td>\n",
       "      <td>200997</td>\n",
       "      <td>66.64644</td>\n",
       "    </tr>\n",
       "    <tr>\n",
       "      <th>1</th>\n",
       "      <td>1</td>\n",
       "      <td>100590</td>\n",
       "      <td>33.35356</td>\n",
       "    </tr>\n",
       "  </tbody>\n",
       "</table>\n",
       "</div>"
      ],
      "text/plain": [
       "   flg_finalista  counts  porcentaje\n",
       "0              0  200997    66.64644\n",
       "1              1  100590    33.35356"
      ]
     },
     "execution_count": 1227,
     "metadata": {},
     "output_type": "execute_result"
    }
   ],
   "source": [
    "df_finalista = aux_data_applicant.groupby('flg_finalista').size().reset_index(name='counts')\n",
    "df_finalista['porcentaje'] = (df_finalista['counts']/df_finalista['counts'].sum())*100\n",
    "df_finalista"
   ]
  },
  {
   "cell_type": "markdown",
   "metadata": {},
   "source": [
    "# finalistas y ~ finalistas"
   ]
  },
  {
   "cell_type": "code",
   "execution_count": 1228,
   "metadata": {},
   "outputs": [],
   "source": [
    "#finalistas en funcion de la edad "
   ]
  },
  {
   "cell_type": "code",
   "execution_count": 1229,
   "metadata": {},
   "outputs": [
    {
     "data": {
      "image/png": "[encoded data removed]",
      "text/plain": [
       "<Figure size 432x288 with 1 Axes>"
      ]
     },
     "metadata": {},
     "output_type": "display_data"
    }
   ],
   "source": [
    "p1 = sns.kdeplot(aux_data_applicant.loc[aux_data_applicant['flg_finalista'] == 1, 'postulante_edad'].dropna(),\n",
    "                 shade= True,\n",
    "                 legend = True,\n",
    "                 label = 'Finalistas')\n"
   ]
  },
  {
   "cell_type": "code",
   "execution_count": 1178,
   "metadata": {},
   "outputs": [
    {
     "data": {
      "image/png": "[encoded data removed]",
      "text/plain": [
       "<Figure size 432x288 with 1 Axes>"
      ]
     },
     "metadata": {},
     "output_type": "display_data"
    }
   ],
   "source": [
    "p2 = sns.kdeplot(aux_data_applicant.loc[aux_data_applicant['flg_finalista'] == 0, 'postulante_edad'].dropna(),\n",
    "                 shade= True,\n",
    "                 legend = True,\n",
    "                 label = 'no seleccionados')"
   ]
  },
  {
   "cell_type": "code",
   "execution_count": 1179,
   "metadata": {},
   "outputs": [
    {
     "name": "stderr",
     "output_type": "stream",
     "text": [
      "C:\\Users\\Usuario\\Anaconda3\\lib\\site-packages\\statsmodels\\nonparametric\\kde.py:448: RuntimeWarning: invalid value encountered in greater\n",
      "  X = X[np.logical_and(X > clip[0], X < clip[1])] # won't work for two columns.\n",
      "C:\\Users\\Usuario\\Anaconda3\\lib\\site-packages\\statsmodels\\nonparametric\\kde.py:448: RuntimeWarning: invalid value encountered in less\n",
      "  X = X[np.logical_and(X > clip[0], X < clip[1])] # won't work for two columns.\n"
     ]
    },
    {
     "data": {
      "image/png": "[encoded data removed]",
      "text/plain": [
       "<Figure size 432x288 with 1 Axes>"
      ]
     },
     "metadata": {},
     "output_type": "display_data"
    }
   ],
   "source": [
    "p2 = sns.kdeplot(aux_data_applicant.loc[aux_data_applicant['flg_finalista'] == 0, 'postulante_edad'],\n",
    "                 shade= True,\n",
    "                 legend = True,\n",
    "                 label = 'no seleccionados')\n",
    "p1 = sns.kdeplot(aux_data_applicant.loc[aux_data_applicant['flg_finalista'] == 1, 'postulante_edad'],\n",
    "                 shade= True,\n",
    "                 legend = True,\n",
    "                 label = 'Finalistas')\n"
   ]
  },
  {
   "cell_type": "code",
   "execution_count": 1180,
   "metadata": {},
   "outputs": [
    {
     "data": {
      "text/plain": [
       "30.127209221096752"
      ]
     },
     "execution_count": 1180,
     "metadata": {},
     "output_type": "execute_result"
    }
   ],
   "source": [
    "aux_data_applicant.loc[aux_data_applicant['flg_finalista'] == 0, 'postulante_edad'].mean()"
   ]
  },
  {
   "cell_type": "code",
   "execution_count": 1181,
   "metadata": {},
   "outputs": [
    {
     "data": {
      "text/plain": [
       "<matplotlib.axes._subplots.AxesSubplot at 0x20606d80f28>"
      ]
     },
     "execution_count": 1181,
     "metadata": {},
     "output_type": "execute_result"
    },
    {
     "data": {
      "image/png": "[encoded data removed]",
      "text/plain": [
       "<Figure size 1080x576 with 1 Axes>"
      ]
     },
     "metadata": {},
     "output_type": "display_data"
    }
   ],
   "source": [
    "# Revisemos si tenemos outliers en la variable EDAD\n",
    "edad = aux_data_applicant.postulante_edad.dropna()\n",
    "plt.figure(figsize=(15,8)) #definir el tamaño de la imagen\n",
    "sns.boxplot(edad, orient = 'h', whis = 1.9)"
   ]
  },
  {
   "cell_type": "code",
   "execution_count": 1049,
   "metadata": {},
   "outputs": [
    {
     "data": {
      "text/plain": [
       "<matplotlib.axes._subplots.AxesSubplot at 0x205dcfefa90>"
      ]
     },
     "execution_count": 1049,
     "metadata": {},
     "output_type": "execute_result"
    },
    {
     "data": {
      "image/png": "[encoded data removed]",
      "text/plain": [
       "<Figure size 1080x576 with 1 Axes>"
      ]
     },
     "metadata": {},
     "output_type": "display_data"
    }
   ],
   "source": [
    "# Revisemos si tenemos outliers en la variable MATCH\n",
    "flg_percent_match = aux_data_applicant.flg_percent_match.dropna()\n",
    "plt.figure(figsize=(15,8)) #definir el tamaño de la imagen\n",
    "sns.boxplot(flg_percent_match, orient = 'v', whis = 1.9)"
   ]
  },
  {
   "cell_type": "code",
   "execution_count": 1050,
   "metadata": {
    "scrolled": true
   },
   "outputs": [
    {
     "data": {
      "text/plain": [
       "<matplotlib.axes._subplots.AxesSubplot at 0x205cbb17358>"
      ]
     },
     "execution_count": 1050,
     "metadata": {},
     "output_type": "execute_result"
    },
    {
     "data": {
      "image/png": "[encoded data removed]",
      "text/plain": [
       "<Figure size 432x288 with 1 Axes>"
      ]
     },
     "metadata": {},
     "output_type": "display_data"
    }
   ],
   "source": [
    "sns.regplot(x = 'flg_percent_match',\n",
    "            y='postulante_edad',\n",
    "            data= aux_data_applicant.loc[aux_data_applicant['flg_finalista'] == 1])\n"
   ]
  },
  {
   "cell_type": "code",
   "execution_count": 1051,
   "metadata": {},
   "outputs": [
    {
     "data": {
      "text/plain": [
       "<matplotlib.axes._subplots.AxesSubplot at 0x205e4dd5da0>"
      ]
     },
     "execution_count": 1051,
     "metadata": {},
     "output_type": "execute_result"
    },
    {
     "data": {
      "image/png": "[encoded data removed]",
      "text/plain": [
       "<Figure size 432x288 with 1 Axes>"
      ]
     },
     "metadata": {},
     "output_type": "display_data"
    }
   ],
   "source": [
    "sns.regplot(x = 'flg_percent_match',\n",
    "            y='postulante_edad',\n",
    "            data= aux_data_applicant.loc[aux_data_applicant['flg_finalista'] == 0])\n"
   ]
  },
  {
   "cell_type": "code",
   "execution_count": 1052,
   "metadata": {},
   "outputs": [
    {
     "data": {
      "text/plain": [
       "<matplotlib.axes._subplots.AxesSubplot at 0x20606d496a0>"
      ]
     },
     "execution_count": 1052,
     "metadata": {},
     "output_type": "execute_result"
    },
    {
     "data": {
      "image/png": "[encoded data removed]",
      "text/plain": [
       "<Figure size 432x288 with 1 Axes>"
      ]
     },
     "metadata": {},
     "output_type": "display_data"
    }
   ],
   "source": [
    "sns.regplot(x='flg_percent_match',\n",
    "            y='postulante_pretension_salarial',\n",
    "            color = 'blue',\n",
    "            data= aux_data_applicant.loc[aux_data_applicant['flg_finalista'] == 1])\n"
   ]
  },
  {
   "cell_type": "code",
   "execution_count": 1053,
   "metadata": {},
   "outputs": [
    {
     "data": {
      "text/plain": [
       "<matplotlib.axes._subplots.AxesSubplot at 0x205e4d5c160>"
      ]
     },
     "execution_count": 1053,
     "metadata": {},
     "output_type": "execute_result"
    },
    {
     "data": {
      "image/png": "[encoded data removed]",
      "text/plain": [
       "<Figure size 432x288 with 1 Axes>"
      ]
     },
     "metadata": {},
     "output_type": "display_data"
    }
   ],
   "source": [
    "sns.regplot(x='flg_percent_match',\n",
    "            y='postulante_pretension_salarial',\n",
    "            data= aux_data_applicant.loc[aux_data_applicant['flg_finalista'] == 0])\n"
   ]
  },
  {
   "cell_type": "markdown",
   "metadata": {},
   "source": [
    "we could see that we have to clean postulants with fake data"
   ]
  },
  {
   "cell_type": "markdown",
   "metadata": {},
   "source": [
    "## Check it out if we could use a text Minning models"
   ]
  },
  {
   "cell_type": "code",
   "execution_count": 1054,
   "metadata": {},
   "outputs": [],
   "source": [
    "presentacion = train_data_applicant['postulante_presentacion'].loc[train_data_applicant['postulacion_nombre_categoria'] == 'Finalistas']"
   ]
  },
  {
   "cell_type": "code",
   "execution_count": 1055,
   "metadata": {},
   "outputs": [
    {
     "data": {
      "text/plain": [
       "'Persona altamente proactiva con estudios de Secretariado Ejecutivo, computación y manejo de Software aplicados al diseño de trabajos administrativos en general, con capacidad de trabajo bajo presión, trabajo en equipo, adecuada para los diferentes cambios dentro de una organización.'"
      ]
     },
     "execution_count": 1055,
     "metadata": {},
     "output_type": "execute_result"
    }
   ],
   "source": [
    "presentacion[7]"
   ]
  },
  {
   "cell_type": "code",
   "execution_count": 1056,
   "metadata": {},
   "outputs": [],
   "source": [
    "train_data_applicant.head(10)\n",
    "presentacion = train_data_applicant['postulante_presentacion'].loc[train_data_applicant['postulacion_nombre_categoria'] == 'DESCARTADOS']"
   ]
  },
  {
   "cell_type": "code",
   "execution_count": 1057,
   "metadata": {},
   "outputs": [
    {
     "data": {
      "text/plain": [
       "'Egresada de la carrera de Administración Hotelera en CENFOTUR, luego de tres años y medio de estudios. Gracias a esto, he logrado obtener una experiencia de 12 años trabajando en las más importantes cadenas hoteleras del país desarrollando todos mis conocimientos.'"
      ]
     },
     "execution_count": 1057,
     "metadata": {},
     "output_type": "execute_result"
    }
   ],
   "source": [
    "presentacion[22309]"
   ]
  },
  {
   "cell_type": "markdown",
   "metadata": {},
   "source": [
    "# Understanding our Data"
   ]
  },
  {
   "cell_type": "code",
   "execution_count": 1388,
   "metadata": {},
   "outputs": [],
   "source": [
    "import numpy as np\n",
    "import matplotlib.pyplot as plt\n",
    "import seaborn as sns"
   ]
  },
  {
   "cell_type": "code",
   "execution_count": 1389,
   "metadata": {},
   "outputs": [],
   "source": [
    "size_category =(train_data_applicant.groupby('empleo_area_puesto').size()).to_frame('size').sort_values(['size'], ascending=False)"
   ]
  },
  {
   "cell_type": "code",
   "execution_count": 1390,
   "metadata": {},
   "outputs": [
    {
     "data": {
      "text/html": [
       "<div>\n",
       "<style scoped>\n",
       "    .dataframe tbody tr th:only-of-type {\n",
       "        vertical-align: middle;\n",
       "    }\n",
       "\n",
       "    .dataframe tbody tr th {\n",
       "        vertical-align: top;\n",
       "    }\n",
       "\n",
       "    .dataframe thead th {\n",
       "        text-align: right;\n",
       "    }\n",
       "</style>\n",
       "<table border=\"1\" class=\"dataframe\">\n",
       "  <thead>\n",
       "    <tr style=\"text-align: right;\">\n",
       "      <th>empleo_area_puesto</th>\n",
       "      <th>Comercial / Ventas</th>\n",
       "      <th>Administración, Contabilidad y Finanzas</th>\n",
       "      <th>Atención al Cliente</th>\n",
       "      <th>Call center / Telemarketing</th>\n",
       "      <th>Almacén / Logística / Transporte</th>\n",
       "      <th>Producción / Operaciones</th>\n",
       "      <th>Marketing / Publicidad / Comunicación</th>\n",
       "      <th>Recursos Humanos</th>\n",
       "      <th>Tecnología, Sistemas y Telecomunicaciones</th>\n",
       "      <th>Educación</th>\n",
       "      <th>...</th>\n",
       "      <th>Legal</th>\n",
       "      <th>Medicina / Salud</th>\n",
       "      <th>Aduanas y Comercio Exterior</th>\n",
       "      <th>Ingeniería</th>\n",
       "      <th>Construcción / Obra</th>\n",
       "      <th>Diseño / Artes gráficas</th>\n",
       "      <th>Gerencia / Dirección</th>\n",
       "      <th>Minería, Petróleo y Gas</th>\n",
       "      <th>Investigación y Calidad</th>\n",
       "      <th>Relaciones institucionales / públicas</th>\n",
       "    </tr>\n",
       "  </thead>\n",
       "  <tbody>\n",
       "    <tr>\n",
       "      <th>size</th>\n",
       "      <td>43643</td>\n",
       "      <td>40469</td>\n",
       "      <td>40282</td>\n",
       "      <td>28162</td>\n",
       "      <td>20299</td>\n",
       "      <td>20276</td>\n",
       "      <td>13529</td>\n",
       "      <td>12690</td>\n",
       "      <td>9997</td>\n",
       "      <td>9060</td>\n",
       "      <td>...</td>\n",
       "      <td>4088</td>\n",
       "      <td>3667</td>\n",
       "      <td>3266</td>\n",
       "      <td>2450</td>\n",
       "      <td>2244</td>\n",
       "      <td>1759</td>\n",
       "      <td>1268</td>\n",
       "      <td>988</td>\n",
       "      <td>933</td>\n",
       "      <td>353</td>\n",
       "    </tr>\n",
       "  </tbody>\n",
       "</table>\n",
       "<p>1 rows × 27 columns</p>\n",
       "</div>"
      ],
      "text/plain": [
       "empleo_area_puesto  Comercial / Ventas  \\\n",
       "size                             43643   \n",
       "\n",
       "empleo_area_puesto  Administración, Contabilidad y Finanzas  \\\n",
       "size                                                  40469   \n",
       "\n",
       "empleo_area_puesto  Atención al Cliente  Call center / Telemarketing  \\\n",
       "size                              40282                        28162   \n",
       "\n",
       "empleo_area_puesto  Almacén / Logística / Transporte  \\\n",
       "size                                           20299   \n",
       "\n",
       "empleo_area_puesto  Producción / Operaciones  \\\n",
       "size                                   20276   \n",
       "\n",
       "empleo_area_puesto  Marketing / Publicidad / Comunicación  Recursos Humanos  \\\n",
       "size                                                13529             12690   \n",
       "\n",
       "empleo_area_puesto  Tecnología, Sistemas y Telecomunicaciones  Educación  \\\n",
       "size                                                     9997       9060   \n",
       "\n",
       "empleo_area_puesto                  ...                    Legal  \\\n",
       "size                                ...                     4088   \n",
       "\n",
       "empleo_area_puesto  Medicina / Salud  Aduanas y Comercio Exterior  Ingeniería  \\\n",
       "size                            3667                         3266        2450   \n",
       "\n",
       "empleo_area_puesto  Construcción / Obra  Diseño / Artes gráficas  \\\n",
       "size                               2244                     1759   \n",
       "\n",
       "empleo_area_puesto  Gerencia / Dirección  Minería, Petróleo y Gas  \\\n",
       "size                                1268                      988   \n",
       "\n",
       "empleo_area_puesto  Investigación y Calidad  \\\n",
       "size                                    933   \n",
       "\n",
       "empleo_area_puesto  Relaciones institucionales / públicas  \n",
       "size                                                  353  \n",
       "\n",
       "[1 rows x 27 columns]"
      ]
     },
     "execution_count": 1390,
     "metadata": {},
     "output_type": "execute_result"
    }
   ],
   "source": [
    "size_category.transpose()"
   ]
  },
  {
   "cell_type": "code",
   "execution_count": 478,
   "metadata": {},
   "outputs": [
    {
     "data": {
      "image/png": "[encoded data removed]",
      "text/plain": [
       "<Figure size 972x1944 with 1 Axes>"
      ]
     },
     "metadata": {},
     "output_type": "display_data"
    }
   ],
   "source": [
    "temp = train_data_applicant.groupby('empleo_area_puesto').size().sort_values(ascending=True)\n",
    "df = pd.DataFrame([temp.index,temp],['empleo_area_puesto','total'])\n",
    "df = df.transpose()\n",
    "\n",
    "fig, ax = plt.subplots(figsize=(len(df)/2,len(df)))\n",
    "pos = np.arange(length)\n",
    "ax = plt.gca()\n",
    "\n",
    "#ax.set_yticks([i for i in range(1,len(df)+1)])\n",
    "ax.barh(pos, df['total'], align='center', tick_label=df['empleo_area_puesto'])\n",
    "ax.set_yticklabels(df['empleo_area_puesto'],fontsize=15)\n",
    "\n",
    "plt.xticks(fontsize=20)\n",
    "#plt.tight_layout()\n",
    "plt.title('Number of Posted Job per every industry',fontsize=35,color='black')\n",
    "plt.savefig('job applications')\n",
    "plt.show()\n"
   ]
  },
  {
   "cell_type": "code",
   "execution_count": 476,
   "metadata": {},
   "outputs": [
    {
     "data": {
      "text/html": [
       "<div>\n",
       "<style scoped>\n",
       "    .dataframe tbody tr th:only-of-type {\n",
       "        vertical-align: middle;\n",
       "    }\n",
       "\n",
       "    .dataframe tbody tr th {\n",
       "        vertical-align: top;\n",
       "    }\n",
       "\n",
       "    .dataframe thead th {\n",
       "        text-align: right;\n",
       "    }\n",
       "</style>\n",
       "<table border=\"1\" class=\"dataframe\">\n",
       "  <thead>\n",
       "    <tr style=\"text-align: right;\">\n",
       "      <th></th>\n",
       "      <th>empleo_cantidad_postulantes</th>\n",
       "    </tr>\n",
       "    <tr>\n",
       "      <th>empleo_area_puesto</th>\n",
       "      <th></th>\n",
       "    </tr>\n",
       "  </thead>\n",
       "  <tbody>\n",
       "    <tr>\n",
       "      <th>Administración, Contabilidad y Finanzas</th>\n",
       "      <td>18311999</td>\n",
       "    </tr>\n",
       "    <tr>\n",
       "      <th>Secretarias y Recepción</th>\n",
       "      <td>17665920</td>\n",
       "    </tr>\n",
       "    <tr>\n",
       "      <th>Atención al Cliente</th>\n",
       "      <td>13811016</td>\n",
       "    </tr>\n",
       "    <tr>\n",
       "      <th>Comercial / Ventas</th>\n",
       "      <td>6792609</td>\n",
       "    </tr>\n",
       "    <tr>\n",
       "      <th>Marketing / Publicidad / Comunicación</th>\n",
       "      <td>6475467</td>\n",
       "    </tr>\n",
       "    <tr>\n",
       "      <th>Producción / Operaciones</th>\n",
       "      <td>4936661</td>\n",
       "    </tr>\n",
       "  </tbody>\n",
       "</table>\n",
       "</div>"
      ],
      "text/plain": [
       "                                         empleo_cantidad_postulantes\n",
       "empleo_area_puesto                                                  \n",
       "Administración, Contabilidad y Finanzas                     18311999\n",
       "Secretarias y Recepción                                     17665920\n",
       "Atención al Cliente                                         13811016\n",
       "Comercial / Ventas                                           6792609\n",
       "Marketing / Publicidad / Comunicación                        6475467\n",
       "Producción / Operaciones                                     4936661"
      ]
     },
     "execution_count": 476,
     "metadata": {},
     "output_type": "execute_result"
    }
   ],
   "source": [
    "pd.DataFrame(plot)"
   ]
  },
  {
   "cell_type": "code",
   "execution_count": 453,
   "metadata": {},
   "outputs": [
    {
     "name": "stderr",
     "output_type": "stream",
     "text": [
      "C:\\Users\\Usuario\\Anaconda3\\lib\\site-packages\\matplotlib\\legend.py:1364: UserWarning: You have mixed positional and keyword arguments, some input may be discarded.\n",
      "  warnings.warn(\"You have mixed positional and keyword \"\n"
     ]
    },
    {
     "data": {
      "image/png": "[encoded data removed]",
      "text/plain": [
       "<Figure size 432x288 with 1 Axes>"
      ]
     },
     "metadata": {},
     "output_type": "display_data"
    }
   ],
   "source": [
    "category_tendency = tendency.groupby(['empleo_area_puesto'])['empleo_cantidad_postulantes'].sum()\n",
    "plot_tendency = category_tendency.sort_values(ascending=False)\n",
    "plot = plot_tendency.head(6)\n",
    "plot.index\n",
    "\n",
    "colors = ['gold', 'yellowgreen', 'lightcoral', 'lightskyblue', 'lightgreen','lightpink']\n",
    "explode = (0.1, 0, 0, 0, 0, 0) \n",
    "\n",
    "w , patches , text = plt.pie(\n",
    "    x=category_tendency.head(6).values,\n",
    "    explode = explode,\n",
    "    colors=colors, \n",
    "    autopct='%1.1f%%',\n",
    "    shadow= True,\n",
    "    startangle= 0)\n",
    "\n",
    "plt.tight_layout()\n",
    "plt.legend(patches,labels = plot.index,\n",
    "           loc=6,\n",
    "           bbox_to_anchor=(1, 0.5))\n",
    "plt.axis('equal')\n",
    "plt.title('Top 6 Number of Applications in function of Area Job posting',\n",
    "          fontsize=15,\n",
    "          color='black')\n",
    "plt.savefig('pie')\n",
    "plt.show()"
   ]
  },
  {
   "cell_type": "markdown",
   "metadata": {},
   "source": [
    "![Sklearn!](imgs/Background20Screening11.jpg \"Scikit-learn\")"
   ]
  },
  {
   "cell_type": "code",
   "execution_count": 518,
   "metadata": {},
   "outputs": [
    {
     "data": {
      "text/html": [
       "<div>\n",
       "<style scoped>\n",
       "    .dataframe tbody tr th:only-of-type {\n",
       "        vertical-align: middle;\n",
       "    }\n",
       "\n",
       "    .dataframe tbody tr th {\n",
       "        vertical-align: top;\n",
       "    }\n",
       "\n",
       "    .dataframe thead th {\n",
       "        text-align: right;\n",
       "    }\n",
       "</style>\n",
       "<table border=\"1\" class=\"dataframe\">\n",
       "  <thead>\n",
       "    <tr style=\"text-align: right;\">\n",
       "      <th></th>\n",
       "      <th>empleo_nivel_puesto</th>\n",
       "      <th>postulante_pretension_salarial</th>\n",
       "    </tr>\n",
       "  </thead>\n",
       "  <tbody>\n",
       "    <tr>\n",
       "      <th>0</th>\n",
       "      <td>Analista / Asistente</td>\n",
       "      <td>1867.794954</td>\n",
       "    </tr>\n",
       "    <tr>\n",
       "      <th>1</th>\n",
       "      <td>Ejecutivo Comercial</td>\n",
       "      <td>1734.935660</td>\n",
       "    </tr>\n",
       "    <tr>\n",
       "      <th>2</th>\n",
       "      <td>Gerencia</td>\n",
       "      <td>7601.584112</td>\n",
       "    </tr>\n",
       "    <tr>\n",
       "      <th>3</th>\n",
       "      <td>Jefe / Supervisor</td>\n",
       "      <td>3806.915799</td>\n",
       "    </tr>\n",
       "    <tr>\n",
       "      <th>4</th>\n",
       "      <td>Otros</td>\n",
       "      <td>1727.684762</td>\n",
       "    </tr>\n",
       "    <tr>\n",
       "      <th>5</th>\n",
       "      <td>Practicante</td>\n",
       "      <td>1043.780424</td>\n",
       "    </tr>\n",
       "    <tr>\n",
       "      <th>6</th>\n",
       "      <td>Trainee</td>\n",
       "      <td>1090.962359</td>\n",
       "    </tr>\n",
       "    <tr>\n",
       "      <th>7</th>\n",
       "      <td>Técnicos / Operativos</td>\n",
       "      <td>1402.963500</td>\n",
       "    </tr>\n",
       "    <tr>\n",
       "      <th>8</th>\n",
       "      <td>Vendedor</td>\n",
       "      <td>1456.585657</td>\n",
       "    </tr>\n",
       "  </tbody>\n",
       "</table>\n",
       "</div>"
      ],
      "text/plain": [
       "     empleo_nivel_puesto  postulante_pretension_salarial\n",
       "0   Analista / Asistente                     1867.794954\n",
       "1    Ejecutivo Comercial                     1734.935660\n",
       "2               Gerencia                     7601.584112\n",
       "3      Jefe / Supervisor                     3806.915799\n",
       "4                  Otros                     1727.684762\n",
       "5            Practicante                     1043.780424\n",
       "6                Trainee                     1090.962359\n",
       "7  Técnicos / Operativos                     1402.963500\n",
       "8               Vendedor                     1456.585657"
      ]
     },
     "execution_count": 518,
     "metadata": {},
     "output_type": "execute_result"
    }
   ],
   "source": []
  },
  {
   "cell_type": "code",
   "execution_count": 543,
   "metadata": {},
   "outputs": [
    {
     "data": {
      "image/png": "[encoded data removed]",
      "text/plain": [
       "<Figure size 648x324 with 1 Axes>"
      ]
     },
     "metadata": {},
     "output_type": "display_data"
    }
   ],
   "source": [
    "inPretention = train_data_applicant.groupby(['empleo_nivel_puesto'])['postulante_pretension_salarial'].mean()\n",
    "# train_data_applicant.loc[:, 'postulacion_aviso_mensaje_no_leidos\n",
    "salary_pretention = inPretention.reset_index()\n",
    "\n",
    "length = len(salary_pretention)\n",
    "\n",
    "fig, ax = plt.subplots(figsize = (length, length/2))\n",
    "xmarks = [i for i in range(1, length+1)]\n",
    "plt.xticks(xmarks)\n",
    "plt.plot(xmarks,\n",
    "         salary_pretention['postulante_pretension_salarial'],\n",
    "         c='blue',\n",
    "         label='Maximum Salary')\n",
    "ax.set_xticklabels(salary_pretention.empleo_nivel_puesto,\n",
    "                   rotation=90)\n",
    "plt.legend(loc='upper right',\n",
    "           fontsize=10,\n",
    "           frameon=True)\n",
    "plt.title(\"Max Salary in All Level Jobs\",\n",
    "          fontsize=15)\n",
    "ax.tick_params(labelsize=15)\n",
    "plt.show()\n"
   ]
  },
  {
   "cell_type": "code",
   "execution_count": 606,
   "metadata": {},
   "outputs": [
    {
     "data": {
      "text/plain": [
       "<bound method DataFrame.sort_values of      empleo_nivel_puesto  postulante_pretension_salarial\n",
       "0   Analista / Asistente                     1867.794954\n",
       "1    Ejecutivo Comercial                     1734.935660\n",
       "2               Gerencia                     7601.584112\n",
       "3      Jefe / Supervisor                     3806.915799\n",
       "4                  Otros                     1727.684762\n",
       "5            Practicante                     1043.780424\n",
       "6                Trainee                     1090.962359\n",
       "7  Técnicos / Operativos                     1402.963500\n",
       "8               Vendedor                     1456.585657>"
      ]
     },
     "execution_count": 606,
     "metadata": {},
     "output_type": "execute_result"
    }
   ],
   "source": [
    "salary_pretention.sort_values"
   ]
  },
  {
   "cell_type": "code",
   "execution_count": 544,
   "metadata": {},
   "outputs": [
    {
     "name": "stderr",
     "output_type": "stream",
     "text": [
      "C:\\Users\\Usuario\\Anaconda3\\lib\\site-packages\\matplotlib\\axes\\_axes.py:6462: UserWarning: The 'normed' kwarg is deprecated, and has been replaced by the 'density' kwarg.\n",
      "  warnings.warn(\"The 'normed' kwarg is deprecated, and has been \"\n"
     ]
    },
    {
     "data": {
      "text/plain": [
       "<matplotlib.axes._subplots.AxesSubplot at 0x205a3b8a0f0>"
      ]
     },
     "execution_count": 544,
     "metadata": {},
     "output_type": "execute_result"
    },
    {
     "data": {
      "image/png": "[encoded data removed]",
      "text/plain": [
       "<Figure size 432x288 with 1 Axes>"
      ]
     },
     "metadata": {},
     "output_type": "display_data"
    }
   ],
   "source": [
    "sns.distplot(salary_pretention.postulante_pretension_salarial)"
   ]
  },
  {
   "cell_type": "markdown",
   "metadata": {},
   "source": [
    "# Inputation and Fill NaN Values"
   ]
  },
  {
   "cell_type": "code",
   "execution_count": 1391,
   "metadata": {},
   "outputs": [],
   "source": [
    "aux_data_applicant2 = aux_data_applicant"
   ]
  },
  {
   "cell_type": "code",
   "execution_count": 1392,
   "metadata": {},
   "outputs": [
    {
     "data": {
      "text/plain": [
       "postulacion_es_descartado                 0.000000\n",
       "postulacion_fecha                         0.000000\n",
       "postulacion_es_invitado                   0.000000\n",
       "postulacion_es_referenciado               0.000000\n",
       "postulacion_nombre_categoria              0.000000\n",
       "postulacion_match                         0.000000\n",
       "postulante_direccion                      0.354166\n",
       "postulante_direccion_ubigeo               0.001903\n",
       "postulante_discapacidad                   0.046948\n",
       "postulante_pais_residencia                0.000027\n",
       "postulante_edad                           0.003611\n",
       "postulante_estado_civil                   0.017365\n",
       "postulante_sexo                           0.000096\n",
       "postulante_disponibilidad_mudarse         0.000000\n",
       "postulante_disponibilidad_a_viajar        0.000000\n",
       "postulante_presentacion                   0.368637\n",
       "postulante_ultima_actualizacion_perfil    0.000003\n",
       "postulante_pretension_salarial            0.387142\n",
       "empleo_nombre_puesto                      0.000000\n",
       "empleo_area_puesto                        0.000000\n",
       "empleo_nivel_puesto                       0.000050\n",
       "empleo_cantidad_postulantes               0.000000\n",
       "empleo_tipo_puesto                        0.002550\n",
       "empleo_modalidad_de_contrato              0.000000\n",
       "empresa_nombre                            0.000000\n",
       "flg_percent_match                         0.000000\n",
       "flg_finalista                             0.000000\n",
       "dtype: float64"
      ]
     },
     "execution_count": 1392,
     "metadata": {},
     "output_type": "execute_result"
    }
   ],
   "source": [
    "# we gonna show % of missing per variable\n",
    "aux_data_applicant2.isnull().sum() / len(aux_data_applicant)"
   ]
  },
  {
   "cell_type": "code",
   "execution_count": 1393,
   "metadata": {},
   "outputs": [
    {
     "data": {
      "text/plain": [
       "(301587, 27)"
      ]
     },
     "execution_count": 1393,
     "metadata": {},
     "output_type": "execute_result"
    }
   ],
   "source": [
    "aux_data_applicant2.shape"
   ]
  },
  {
   "cell_type": "code",
   "execution_count": 1394,
   "metadata": {},
   "outputs": [],
   "source": [
    "# Eliminemos filas donde la EDAD es missing\n",
    "#df_train_clientes_aux[df_train_clientes_aux.EDAD.notnull()].shape"
   ]
  },
  {
   "cell_type": "code",
   "execution_count": 1395,
   "metadata": {},
   "outputs": [
    {
     "data": {
      "text/plain": [
       "30"
      ]
     },
     "execution_count": 1395,
     "metadata": {},
     "output_type": "execute_result"
    }
   ],
   "source": [
    "round(aux_data_applicant2.postulante_edad.mean())"
   ]
  },
  {
   "cell_type": "code",
   "execution_count": 1396,
   "metadata": {},
   "outputs": [],
   "source": [
    "# Completar los valores perdidos de la EDAD por promedio, mediana y moda\n",
    "aux_data_applicant2.postulante_edad.fillna(\n",
    "    round(aux_data_applicant2.postulante_edad.mean()), inplace = True)"
   ]
  },
  {
   "cell_type": "code",
   "execution_count": 1397,
   "metadata": {},
   "outputs": [
    {
     "data": {
      "text/plain": [
       "0"
      ]
     },
     "execution_count": 1397,
     "metadata": {},
     "output_type": "execute_result"
    }
   ],
   "source": [
    "# number of missing values postulante_edad\n",
    "sum(train_data_applicant['postulante_edad'].isnull())"
   ]
  },
  {
   "cell_type": "code",
   "execution_count": 1398,
   "metadata": {},
   "outputs": [
    {
     "data": {
      "text/plain": [
       "14159"
      ]
     },
     "execution_count": 1398,
     "metadata": {},
     "output_type": "execute_result"
    }
   ],
   "source": [
    "##  Discapacidad\n",
    "sum(aux_data_applicant2.postulante_discapacidad.isnull())\n"
   ]
  },
  {
   "cell_type": "code",
   "execution_count": 1399,
   "metadata": {},
   "outputs": [],
   "source": [
    "# Rellenar los valores perdidos de discpacidad\n",
    "aux_data_applicant2.postulante_discapacidad.fillna(\n",
    "    0,\n",
    "    inplace = True)  "
   ]
  },
  {
   "cell_type": "code",
   "execution_count": 1400,
   "metadata": {},
   "outputs": [
    {
     "data": {
      "text/plain": [
       "0"
      ]
     },
     "execution_count": 1400,
     "metadata": {},
     "output_type": "execute_result"
    }
   ],
   "source": [
    "sum(aux_data_applicant2.postulante_discapacidad.isnull())"
   ]
  },
  {
   "cell_type": "code",
   "execution_count": 1237,
   "metadata": {},
   "outputs": [
    {
     "data": {
      "text/plain": [
       "<matplotlib.axes._subplots.AxesSubplot at 0x2063949ce80>"
      ]
     },
     "execution_count": 1237,
     "metadata": {},
     "output_type": "execute_result"
    },
    {
     "data": {
      "image/png": "[encoded data removed]",
      "text/plain": [
       "<Figure size 1080x576 with 1 Axes>"
      ]
     },
     "metadata": {},
     "output_type": "display_data"
    }
   ],
   "source": [
    "# Veamos como es la distribución de la variable EDAD con la imputación\n",
    "plt.figure(figsize=(15,8)) #definir el tamaño de la imagen\n",
    "sns.kdeplot(aux_data_applicant2.postulante_edad.fillna(\n",
    "    aux_data_applicant.postulante_edad.median()),\n",
    "            shade=True,\n",
    "            legend=True,\n",
    "            label = 'imputados')\n",
    "sns.kdeplot(train_data_applicant.postulante_edad.dropna(), \n",
    "            shade=True,\n",
    "            legend=True,\n",
    "            label = 'sin imputar')"
   ]
  },
  {
   "cell_type": "code",
   "execution_count": 1401,
   "metadata": {},
   "outputs": [
    {
     "data": {
      "text/plain": [
       "1915"
      ]
     },
     "execution_count": 1401,
     "metadata": {},
     "output_type": "execute_result"
    }
   ],
   "source": [
    "# Salary Pretention MEAN()\n",
    "round(aux_data_applicant2.postulante_pretension_salarial.mean())"
   ]
  },
  {
   "cell_type": "code",
   "execution_count": 1402,
   "metadata": {},
   "outputs": [
    {
     "data": {
      "text/plain": [
       "116757"
      ]
     },
     "execution_count": 1402,
     "metadata": {},
     "output_type": "execute_result"
    }
   ],
   "source": [
    "sum(aux_data_applicant2.postulante_pretension_salarial.isnull())"
   ]
  },
  {
   "cell_type": "code",
   "execution_count": 1403,
   "metadata": {},
   "outputs": [],
   "source": [
    "# Completar los valores perdidos de la Pretension salarial por promedio\n",
    "aux_data_applicant2.postulante_pretension_salarial.fillna(\n",
    "    round(aux_data_applicant2.postulante_pretension_salarial.mean()), inplace= True)"
   ]
  },
  {
   "cell_type": "code",
   "execution_count": 1404,
   "metadata": {},
   "outputs": [
    {
     "data": {
      "text/plain": [
       "0"
      ]
     },
     "execution_count": 1404,
     "metadata": {},
     "output_type": "execute_result"
    }
   ],
   "source": [
    "# number of missing values postulante_edad\n",
    "sum(aux_data_applicant2['postulante_pretension_salarial'].isnull())"
   ]
  },
  {
   "cell_type": "code",
   "execution_count": 1405,
   "metadata": {},
   "outputs": [
    {
     "data": {
      "text/plain": [
       "63"
      ]
     },
     "execution_count": 1405,
     "metadata": {},
     "output_type": "execute_result"
    }
   ],
   "source": [
    "# Jobs that dont have applicants\n",
    "len(aux_data_applicant2.loc[aux_data_applicant2['empleo_cantidad_postulantes'] == 0])"
   ]
  },
  {
   "cell_type": "code",
   "execution_count": 1406,
   "metadata": {},
   "outputs": [],
   "source": [
    "aux_data_applicant2.drop(aux_data_applicant2[aux_data_applicant2.empleo_cantidad_postulantes == 0].index, inplace=True)"
   ]
  },
  {
   "cell_type": "code",
   "execution_count": 1407,
   "metadata": {},
   "outputs": [],
   "source": [
    "### Probability to be choosen\n",
    "prob_total_postulant = lambda p: round((1/(p['empleo_cantidad_postulantes']/7)),2) if p['flg_finalista'] == 1 else round((1/(p['empleo_cantidad_postulantes']/3)),2)"
   ]
  },
  {
   "cell_type": "code",
   "execution_count": 1408,
   "metadata": {},
   "outputs": [],
   "source": [
    "aux_data_applicant2['flg_prob_chosen'] = aux_data_applicant2.apply(prob_total_postulant, axis= 1)"
   ]
  },
  {
   "cell_type": "code",
   "execution_count": 1409,
   "metadata": {},
   "outputs": [
    {
     "data": {
      "text/plain": [
       "postulacion_es_descartado                 0.000000\n",
       "postulacion_fecha                         0.000000\n",
       "postulacion_es_invitado                   0.000000\n",
       "postulacion_es_referenciado               0.000000\n",
       "postulacion_nombre_categoria              0.000000\n",
       "postulacion_match                         0.000000\n",
       "postulante_direccion                      0.354191\n",
       "postulante_direccion_ubigeo               0.001904\n",
       "postulante_discapacidad                   0.000000\n",
       "postulante_pais_residencia                0.000027\n",
       "postulante_edad                           0.000000\n",
       "postulante_estado_civil                   0.017362\n",
       "postulante_sexo                           0.000096\n",
       "postulante_disponibilidad_mudarse         0.000000\n",
       "postulante_disponibilidad_a_viajar        0.000000\n",
       "postulante_presentacion                   0.368607\n",
       "postulante_ultima_actualizacion_perfil    0.000003\n",
       "postulante_pretension_salarial            0.000000\n",
       "empleo_nombre_puesto                      0.000000\n",
       "empleo_area_puesto                        0.000000\n",
       "empleo_nivel_puesto                       0.000050\n",
       "empleo_cantidad_postulantes               0.000000\n",
       "empleo_tipo_puesto                        0.002550\n",
       "empleo_modalidad_de_contrato              0.000000\n",
       "empresa_nombre                            0.000000\n",
       "flg_percent_match                         0.000000\n",
       "flg_finalista                             0.000000\n",
       "flg_prob_chosen                           0.000000\n",
       "dtype: float64"
      ]
     },
     "execution_count": 1409,
     "metadata": {},
     "output_type": "execute_result"
    }
   ],
   "source": [
    "aux_data_applicant2.isnull().sum() / len(aux_data_applicant2)"
   ]
  },
  {
   "cell_type": "markdown",
   "metadata": {},
   "source": [
    "# Implementar el Modelo"
   ]
  },
  {
   "cell_type": "code",
   "execution_count": 1410,
   "metadata": {},
   "outputs": [
    {
     "data": {
      "text/html": [
       "<div>\n",
       "<style scoped>\n",
       "    .dataframe tbody tr th:only-of-type {\n",
       "        vertical-align: middle;\n",
       "    }\n",
       "\n",
       "    .dataframe tbody tr th {\n",
       "        vertical-align: top;\n",
       "    }\n",
       "\n",
       "    .dataframe thead th {\n",
       "        text-align: right;\n",
       "    }\n",
       "</style>\n",
       "<table border=\"1\" class=\"dataframe\">\n",
       "  <thead>\n",
       "    <tr style=\"text-align: right;\">\n",
       "      <th></th>\n",
       "      <th>postulacion_es_descartado</th>\n",
       "      <th>postulacion_fecha</th>\n",
       "      <th>postulacion_es_invitado</th>\n",
       "      <th>postulacion_es_referenciado</th>\n",
       "      <th>postulacion_nombre_categoria</th>\n",
       "      <th>postulacion_match</th>\n",
       "      <th>postulante_direccion</th>\n",
       "      <th>postulante_direccion_ubigeo</th>\n",
       "      <th>postulante_discapacidad</th>\n",
       "      <th>postulante_pais_residencia</th>\n",
       "      <th>...</th>\n",
       "      <th>empleo_nombre_puesto</th>\n",
       "      <th>empleo_area_puesto</th>\n",
       "      <th>empleo_nivel_puesto</th>\n",
       "      <th>empleo_cantidad_postulantes</th>\n",
       "      <th>empleo_tipo_puesto</th>\n",
       "      <th>empleo_modalidad_de_contrato</th>\n",
       "      <th>empresa_nombre</th>\n",
       "      <th>flg_percent_match</th>\n",
       "      <th>flg_finalista</th>\n",
       "      <th>flg_prob_chosen</th>\n",
       "    </tr>\n",
       "  </thead>\n",
       "  <tbody>\n",
       "    <tr>\n",
       "      <th>0</th>\n",
       "      <td>0</td>\n",
       "      <td>2017-09-02 00:34:02</td>\n",
       "      <td>0</td>\n",
       "      <td>0</td>\n",
       "      <td>Pre-Seleccionados</td>\n",
       "      <td>13.52</td>\n",
       "      <td>NaN</td>\n",
       "      <td>Lince, Lima</td>\n",
       "      <td>0.0</td>\n",
       "      <td>Perú</td>\n",
       "      <td>...</td>\n",
       "      <td>Anfitrión SURCO - Exclusivo Casino</td>\n",
       "      <td>Atención al Cliente</td>\n",
       "      <td>Técnicos / Operativos</td>\n",
       "      <td>74</td>\n",
       "      <td>webpremium</td>\n",
       "      <td>1</td>\n",
       "      <td>Consumo Masivo</td>\n",
       "      <td>65.3</td>\n",
       "      <td>0</td>\n",
       "      <td>0.04</td>\n",
       "    </tr>\n",
       "  </tbody>\n",
       "</table>\n",
       "<p>1 rows × 28 columns</p>\n",
       "</div>"
      ],
      "text/plain": [
       "   postulacion_es_descartado    postulacion_fecha  postulacion_es_invitado  \\\n",
       "0                          0  2017-09-02 00:34:02                        0   \n",
       "\n",
       "   postulacion_es_referenciado postulacion_nombre_categoria  \\\n",
       "0                            0            Pre-Seleccionados   \n",
       "\n",
       "   postulacion_match postulante_direccion postulante_direccion_ubigeo  \\\n",
       "0              13.52                  NaN                 Lince, Lima   \n",
       "\n",
       "   postulante_discapacidad postulante_pais_residencia       ...        \\\n",
       "0                      0.0                       Perú       ...         \n",
       "\n",
       "                 empleo_nombre_puesto   empleo_area_puesto  \\\n",
       "0  Anfitrión SURCO - Exclusivo Casino  Atención al Cliente   \n",
       "\n",
       "     empleo_nivel_puesto  empleo_cantidad_postulantes  empleo_tipo_puesto  \\\n",
       "0  Técnicos / Operativos                           74          webpremium   \n",
       "\n",
       "  empleo_modalidad_de_contrato  empresa_nombre  flg_percent_match  \\\n",
       "0                            1  Consumo Masivo               65.3   \n",
       "\n",
       "  flg_finalista flg_prob_chosen  \n",
       "0             0            0.04  \n",
       "\n",
       "[1 rows x 28 columns]"
      ]
     },
     "execution_count": 1410,
     "metadata": {},
     "output_type": "execute_result"
    }
   ],
   "source": [
    "# Seleccionamos las variables con las que vamos a modelar\n",
    "aux_data_applicant2.head(1)"
   ]
  },
  {
   "cell_type": "code",
   "execution_count": 1411,
   "metadata": {},
   "outputs": [
    {
     "data": {
      "text/plain": [
       "['postulacion_fecha',\n",
       " 'postulacion_nombre_categoria',\n",
       " 'postulante_direccion',\n",
       " 'postulante_direccion_ubigeo',\n",
       " 'postulante_pais_residencia',\n",
       " 'postulante_estado_civil',\n",
       " 'postulante_sexo',\n",
       " 'postulante_presentacion',\n",
       " 'postulante_ultima_actualizacion_perfil',\n",
       " 'empleo_nombre_puesto',\n",
       " 'empleo_area_puesto',\n",
       " 'empleo_nivel_puesto',\n",
       " 'empleo_tipo_puesto',\n",
       " 'empresa_nombre']"
      ]
     },
     "execution_count": 1411,
     "metadata": {},
     "output_type": "execute_result"
    }
   ],
   "source": [
    "columns_exec = list(aux_data_applicant2.select_dtypes(include='object').columns)\n",
    "columns_exec"
   ]
  },
  {
   "cell_type": "code",
   "execution_count": 1414,
   "metadata": {},
   "outputs": [],
   "source": [
    "# Variables type object WE wont use\n",
    "aux_data_applicant2.drop('postulante_estado_civil', axis=1, inplace=True)\n",
    "aux_data_applicant2.drop('postulante_sexo', axis=1, inplace=True)\n",
    "aux_data_applicant2.drop('empleo_area_puesto', axis=1, inplace=True)\n",
    "aux_data_applicant2.drop('empleo_nivel_puesto', axis=1, inplace=True)\n",
    "aux_data_applicant2.drop('empleo_tipo_puesto', axis=1, inplace=True)\n",
    "aux_data_applicant2.drop('empresa_nombre', axis=1, inplace=True)\n",
    "\n",
    "# Others that we wont use\n",
    "aux_data_applicant2.drop('postulacion_fecha', axis=1, inplace=True)\n",
    "aux_data_applicant2.drop('postulacion_nombre_categoria', axis=1, inplace=True)\n",
    "aux_data_applicant2.drop('postulante_direccion', axis=1, inplace=True)\n",
    "aux_data_applicant2.drop('postulante_direccion_ubigeo', axis=1, inplace=True)\n",
    "aux_data_applicant2.drop('postulante_pais_residencia', axis=1, inplace=True)\n",
    "aux_data_applicant2.drop('empleo_modalidad_de_contrato', axis=1, inplace=True)\n",
    "aux_data_applicant2.drop('postulante_presentacion', axis=1, inplace=True)\n",
    "aux_data_applicant2.drop('postulante_ultima_actualizacion_perfil', axis=1, inplace=True)\n",
    "aux_data_applicant2.drop('empleo_nombre_puesto', axis=1, inplace=True)\n",
    "\n",
    "\n",
    "aux_data_applicant2.drop('empleo_cantidad_postulantes', axis=1, inplace=True)\n",
    "aux_data_applicant2.drop('postulacion_match', axis=1, inplace=True)\n",
    "aux_data_applicant2.drop('postulacion_es_descartado', axis=1, inplace=True)\n",
    "aux_data_applicant2.drop('postulacion_es_invitado', axis=1, inplace=True)\n",
    "aux_data_applicant2.drop('postulacion_es_referenciado', axis=1, inplace=True)\n",
    "\n",
    "aux_data_applicant2.drop('postulante_disponibilidad_mudarse', axis=1, inplace=True)\n",
    "aux_data_applicant2.drop('postulante_disponibilidad_a_viajar', axis=1, inplace=True)\n",
    "aux_data_applicant2.drop('postulante_discapacidad', axis=1, inplace=True)"
   ]
  },
  {
   "cell_type": "code",
   "execution_count": 1415,
   "metadata": {},
   "outputs": [
    {
     "data": {
      "text/html": [
       "<div>\n",
       "<style scoped>\n",
       "    .dataframe tbody tr th:only-of-type {\n",
       "        vertical-align: middle;\n",
       "    }\n",
       "\n",
       "    .dataframe tbody tr th {\n",
       "        vertical-align: top;\n",
       "    }\n",
       "\n",
       "    .dataframe thead th {\n",
       "        text-align: right;\n",
       "    }\n",
       "</style>\n",
       "<table border=\"1\" class=\"dataframe\">\n",
       "  <thead>\n",
       "    <tr style=\"text-align: right;\">\n",
       "      <th></th>\n",
       "      <th>postulante_edad</th>\n",
       "      <th>postulante_pretension_salarial</th>\n",
       "      <th>flg_percent_match</th>\n",
       "      <th>flg_finalista</th>\n",
       "      <th>flg_prob_chosen</th>\n",
       "    </tr>\n",
       "  </thead>\n",
       "  <tbody>\n",
       "    <tr>\n",
       "      <th>0</th>\n",
       "      <td>40.0</td>\n",
       "      <td>1915.0</td>\n",
       "      <td>65.3</td>\n",
       "      <td>0</td>\n",
       "      <td>0.04</td>\n",
       "    </tr>\n",
       "    <tr>\n",
       "      <th>1</th>\n",
       "      <td>40.0</td>\n",
       "      <td>1915.0</td>\n",
       "      <td>64.2</td>\n",
       "      <td>1</td>\n",
       "      <td>0.08</td>\n",
       "    </tr>\n",
       "  </tbody>\n",
       "</table>\n",
       "</div>"
      ],
      "text/plain": [
       "   postulante_edad  postulante_pretension_salarial  flg_percent_match  \\\n",
       "0             40.0                          1915.0               65.3   \n",
       "1             40.0                          1915.0               64.2   \n",
       "\n",
       "   flg_finalista  flg_prob_chosen  \n",
       "0              0             0.04  \n",
       "1              1             0.08  "
      ]
     },
     "execution_count": 1415,
     "metadata": {},
     "output_type": "execute_result"
    }
   ],
   "source": [
    "aux_data_applicant2.head(2)"
   ]
  },
  {
   "cell_type": "code",
   "execution_count": 1416,
   "metadata": {},
   "outputs": [
    {
     "data": {
      "text/plain": [
       "postulante_edad                   0.0\n",
       "postulante_pretension_salarial    0.0\n",
       "flg_percent_match                 0.0\n",
       "flg_finalista                     0.0\n",
       "flg_prob_chosen                   0.0\n",
       "dtype: float64"
      ]
     },
     "execution_count": 1416,
     "metadata": {},
     "output_type": "execute_result"
    }
   ],
   "source": [
    "aux_data_applicant2.isnull().sum() / len(aux_data_applicant2)"
   ]
  },
  {
   "cell_type": "code",
   "execution_count": 1417,
   "metadata": {},
   "outputs": [
    {
     "data": {
      "text/plain": [
       "77"
      ]
     },
     "execution_count": 1417,
     "metadata": {},
     "output_type": "execute_result"
    }
   ],
   "source": [
    "# we are going to delete person who have negative value and higher than 85\n",
    "len(aux_data_applicant2.loc[(aux_data_applicant2.postulante_edad < 15) | (aux_data_applicant2.postulante_edad > 85)])"
   ]
  },
  {
   "cell_type": "code",
   "execution_count": 1418,
   "metadata": {},
   "outputs": [],
   "source": [
    "aux_data_applicant2.drop(aux_data_applicant2.loc[(aux_data_applicant2.postulante_edad < 15) | (aux_data_applicant2.postulante_edad > 85)].index, inplace=True)"
   ]
  },
  {
   "cell_type": "code",
   "execution_count": 1419,
   "metadata": {},
   "outputs": [
    {
     "data": {
      "text/plain": [
       "130"
      ]
     },
     "execution_count": 1419,
     "metadata": {},
     "output_type": "execute_result"
    }
   ],
   "source": [
    "# we are going to delete fake salary pretention\n",
    "len(aux_data_applicant2.loc[(aux_data_applicant2.postulante_pretension_salarial > 30000)])"
   ]
  },
  {
   "cell_type": "code",
   "execution_count": 1420,
   "metadata": {},
   "outputs": [],
   "source": [
    "aux_data_applicant2.drop(\n",
    "    aux_data_applicant2.loc[(aux_data_applicant2.postulante_pretension_salarial > 30000)].index,\n",
    "    inplace=True)"
   ]
  },
  {
   "cell_type": "code",
   "execution_count": 1421,
   "metadata": {},
   "outputs": [
    {
     "data": {
      "text/plain": [
       "['postulante_edad',\n",
       " 'postulante_pretension_salarial',\n",
       " 'flg_percent_match',\n",
       " 'flg_finalista',\n",
       " 'flg_prob_chosen']"
      ]
     },
     "execution_count": 1421,
     "metadata": {},
     "output_type": "execute_result"
    }
   ],
   "source": [
    "df_final_vars = aux_data_applicant2.columns.values.tolist()\n",
    "df_final_vars"
   ]
  },
  {
   "cell_type": "code",
   "execution_count": 1422,
   "metadata": {},
   "outputs": [],
   "source": [
    "y = ['flg_finalista']"
   ]
  },
  {
   "cell_type": "code",
   "execution_count": 1423,
   "metadata": {},
   "outputs": [],
   "source": [
    "X = [i for i in df_final_vars if i not in y]"
   ]
  },
  {
   "cell_type": "code",
   "execution_count": 1424,
   "metadata": {},
   "outputs": [
    {
     "data": {
      "text/plain": [
       "['postulante_edad',\n",
       " 'postulante_pretension_salarial',\n",
       " 'flg_percent_match',\n",
       " 'flg_prob_chosen']"
      ]
     },
     "execution_count": 1424,
     "metadata": {},
     "output_type": "execute_result"
    }
   ],
   "source": [
    "X"
   ]
  },
  {
   "cell_type": "markdown",
   "metadata": {},
   "source": [
    "# Selección de variables con REF (Recursive Feature Elimination)"
   ]
  },
  {
   "cell_type": "code",
   "execution_count": 1425,
   "metadata": {},
   "outputs": [],
   "source": [
    "# Utilizamos las \n",
    "from sklearn import datasets\n",
    "from sklearn.feature_selection import RFE\n",
    "from sklearn.linear_model import LogisticRegression\n",
    "logreg = LogisticRegression()"
   ]
  },
  {
   "cell_type": "code",
   "execution_count": 1426,
   "metadata": {},
   "outputs": [
    {
     "data": {
      "text/html": [
       "<div>\n",
       "<style scoped>\n",
       "    .dataframe tbody tr th:only-of-type {\n",
       "        vertical-align: middle;\n",
       "    }\n",
       "\n",
       "    .dataframe tbody tr th {\n",
       "        vertical-align: top;\n",
       "    }\n",
       "\n",
       "    .dataframe thead th {\n",
       "        text-align: right;\n",
       "    }\n",
       "</style>\n",
       "<table border=\"1\" class=\"dataframe\">\n",
       "  <thead>\n",
       "    <tr style=\"text-align: right;\">\n",
       "      <th></th>\n",
       "      <th>postulante_edad</th>\n",
       "      <th>postulante_pretension_salarial</th>\n",
       "      <th>flg_percent_match</th>\n",
       "      <th>flg_finalista</th>\n",
       "      <th>flg_prob_chosen</th>\n",
       "    </tr>\n",
       "  </thead>\n",
       "  <tbody>\n",
       "    <tr>\n",
       "      <th>0</th>\n",
       "      <td>40.0</td>\n",
       "      <td>1915.0</td>\n",
       "      <td>65.3</td>\n",
       "      <td>0</td>\n",
       "      <td>0.04</td>\n",
       "    </tr>\n",
       "  </tbody>\n",
       "</table>\n",
       "</div>"
      ],
      "text/plain": [
       "   postulante_edad  postulante_pretension_salarial  flg_percent_match  \\\n",
       "0             40.0                          1915.0               65.3   \n",
       "\n",
       "   flg_finalista  flg_prob_chosen  \n",
       "0              0             0.04  "
      ]
     },
     "execution_count": 1426,
     "metadata": {},
     "output_type": "execute_result"
    }
   ],
   "source": [
    "aux_data_applicant2.head(1)"
   ]
  },
  {
   "cell_type": "code",
   "execution_count": 1427,
   "metadata": {},
   "outputs": [
    {
     "data": {
      "text/plain": [
       "postulante_edad                   0.0\n",
       "postulante_pretension_salarial    0.0\n",
       "flg_percent_match                 0.0\n",
       "flg_finalista                     0.0\n",
       "flg_prob_chosen                   0.0\n",
       "dtype: float64"
      ]
     },
     "execution_count": 1427,
     "metadata": {},
     "output_type": "execute_result"
    }
   ],
   "source": [
    "aux_data_applicant2.isnull().sum() / len(aux_data_applicant2)"
   ]
  },
  {
   "cell_type": "code",
   "execution_count": 1429,
   "metadata": {},
   "outputs": [],
   "source": [
    "rfe = RFE(logreg, 2) # aplicamos la regresión logística como estimador y pedimos las 3 mejores variables"
   ]
  },
  {
   "cell_type": "code",
   "execution_count": 1430,
   "metadata": {},
   "outputs": [
    {
     "name": "stderr",
     "output_type": "stream",
     "text": [
      "C:\\Users\\Usuario\\Anaconda3\\lib\\site-packages\\sklearn\\utils\\validation.py:578: DataConversionWarning: A column-vector y was passed when a 1d array was expected. Please change the shape of y to (n_samples, ), for example using ravel().\n",
      "  y = column_or_1d(y, warn=True)\n"
     ]
    }
   ],
   "source": [
    "rfe = rfe.fit(aux_data_applicant2[X], aux_data_applicant2[y])"
   ]
  },
  {
   "cell_type": "code",
   "execution_count": 1431,
   "metadata": {},
   "outputs": [
    {
     "name": "stdout",
     "output_type": "stream",
     "text": [
      "[False False  True  True]\n",
      "[2 3 1 1]\n"
     ]
    }
   ],
   "source": [
    "print(rfe.support_)\n",
    "print(rfe.ranking_)"
   ]
  },
  {
   "cell_type": "code",
   "execution_count": 1432,
   "metadata": {},
   "outputs": [],
   "source": [
    "X = aux_data_applicant2.iloc[:,rfe.support_] \n",
    "y = aux_data_applicant2['flg_finalista']"
   ]
  },
  {
   "cell_type": "code",
   "execution_count": 1433,
   "metadata": {},
   "outputs": [
    {
     "data": {
      "text/html": [
       "<div>\n",
       "<style scoped>\n",
       "    .dataframe tbody tr th:only-of-type {\n",
       "        vertical-align: middle;\n",
       "    }\n",
       "\n",
       "    .dataframe tbody tr th {\n",
       "        vertical-align: top;\n",
       "    }\n",
       "\n",
       "    .dataframe thead th {\n",
       "        text-align: right;\n",
       "    }\n",
       "</style>\n",
       "<table border=\"1\" class=\"dataframe\">\n",
       "  <thead>\n",
       "    <tr style=\"text-align: right;\">\n",
       "      <th></th>\n",
       "      <th>flg_percent_match</th>\n",
       "      <th>flg_finalista</th>\n",
       "    </tr>\n",
       "  </thead>\n",
       "  <tbody>\n",
       "    <tr>\n",
       "      <th>0</th>\n",
       "      <td>65.3</td>\n",
       "      <td>0</td>\n",
       "    </tr>\n",
       "    <tr>\n",
       "      <th>1</th>\n",
       "      <td>64.2</td>\n",
       "      <td>1</td>\n",
       "    </tr>\n",
       "    <tr>\n",
       "      <th>2</th>\n",
       "      <td>62.3</td>\n",
       "      <td>0</td>\n",
       "    </tr>\n",
       "    <tr>\n",
       "      <th>3</th>\n",
       "      <td>52.2</td>\n",
       "      <td>0</td>\n",
       "    </tr>\n",
       "    <tr>\n",
       "      <th>4</th>\n",
       "      <td>33.0</td>\n",
       "      <td>0</td>\n",
       "    </tr>\n",
       "    <tr>\n",
       "      <th>5</th>\n",
       "      <td>74.9</td>\n",
       "      <td>0</td>\n",
       "    </tr>\n",
       "    <tr>\n",
       "      <th>6</th>\n",
       "      <td>47.9</td>\n",
       "      <td>0</td>\n",
       "    </tr>\n",
       "    <tr>\n",
       "      <th>7</th>\n",
       "      <td>88.0</td>\n",
       "      <td>1</td>\n",
       "    </tr>\n",
       "    <tr>\n",
       "      <th>8</th>\n",
       "      <td>88.7</td>\n",
       "      <td>1</td>\n",
       "    </tr>\n",
       "    <tr>\n",
       "      <th>9</th>\n",
       "      <td>67.5</td>\n",
       "      <td>1</td>\n",
       "    </tr>\n",
       "    <tr>\n",
       "      <th>10</th>\n",
       "      <td>83.5</td>\n",
       "      <td>1</td>\n",
       "    </tr>\n",
       "    <tr>\n",
       "      <th>11</th>\n",
       "      <td>43.0</td>\n",
       "      <td>0</td>\n",
       "    </tr>\n",
       "    <tr>\n",
       "      <th>12</th>\n",
       "      <td>72.6</td>\n",
       "      <td>0</td>\n",
       "    </tr>\n",
       "    <tr>\n",
       "      <th>13</th>\n",
       "      <td>93.5</td>\n",
       "      <td>1</td>\n",
       "    </tr>\n",
       "    <tr>\n",
       "      <th>14</th>\n",
       "      <td>68.5</td>\n",
       "      <td>1</td>\n",
       "    </tr>\n",
       "    <tr>\n",
       "      <th>15</th>\n",
       "      <td>62.5</td>\n",
       "      <td>0</td>\n",
       "    </tr>\n",
       "    <tr>\n",
       "      <th>16</th>\n",
       "      <td>26.7</td>\n",
       "      <td>0</td>\n",
       "    </tr>\n",
       "    <tr>\n",
       "      <th>17</th>\n",
       "      <td>98.7</td>\n",
       "      <td>1</td>\n",
       "    </tr>\n",
       "    <tr>\n",
       "      <th>18</th>\n",
       "      <td>65.0</td>\n",
       "      <td>1</td>\n",
       "    </tr>\n",
       "    <tr>\n",
       "      <th>19</th>\n",
       "      <td>74.2</td>\n",
       "      <td>1</td>\n",
       "    </tr>\n",
       "    <tr>\n",
       "      <th>20</th>\n",
       "      <td>55.4</td>\n",
       "      <td>0</td>\n",
       "    </tr>\n",
       "    <tr>\n",
       "      <th>21</th>\n",
       "      <td>57.0</td>\n",
       "      <td>0</td>\n",
       "    </tr>\n",
       "    <tr>\n",
       "      <th>22</th>\n",
       "      <td>26.4</td>\n",
       "      <td>0</td>\n",
       "    </tr>\n",
       "    <tr>\n",
       "      <th>23</th>\n",
       "      <td>69.7</td>\n",
       "      <td>0</td>\n",
       "    </tr>\n",
       "    <tr>\n",
       "      <th>24</th>\n",
       "      <td>29.8</td>\n",
       "      <td>0</td>\n",
       "    </tr>\n",
       "    <tr>\n",
       "      <th>25</th>\n",
       "      <td>92.8</td>\n",
       "      <td>1</td>\n",
       "    </tr>\n",
       "    <tr>\n",
       "      <th>26</th>\n",
       "      <td>98.1</td>\n",
       "      <td>1</td>\n",
       "    </tr>\n",
       "    <tr>\n",
       "      <th>27</th>\n",
       "      <td>70.7</td>\n",
       "      <td>1</td>\n",
       "    </tr>\n",
       "    <tr>\n",
       "      <th>28</th>\n",
       "      <td>37.6</td>\n",
       "      <td>0</td>\n",
       "    </tr>\n",
       "    <tr>\n",
       "      <th>29</th>\n",
       "      <td>39.0</td>\n",
       "      <td>0</td>\n",
       "    </tr>\n",
       "    <tr>\n",
       "      <th>...</th>\n",
       "      <td>...</td>\n",
       "      <td>...</td>\n",
       "    </tr>\n",
       "    <tr>\n",
       "      <th>301557</th>\n",
       "      <td>48.6</td>\n",
       "      <td>0</td>\n",
       "    </tr>\n",
       "    <tr>\n",
       "      <th>301558</th>\n",
       "      <td>18.7</td>\n",
       "      <td>0</td>\n",
       "    </tr>\n",
       "    <tr>\n",
       "      <th>301559</th>\n",
       "      <td>76.5</td>\n",
       "      <td>1</td>\n",
       "    </tr>\n",
       "    <tr>\n",
       "      <th>301560</th>\n",
       "      <td>92.9</td>\n",
       "      <td>1</td>\n",
       "    </tr>\n",
       "    <tr>\n",
       "      <th>301561</th>\n",
       "      <td>58.3</td>\n",
       "      <td>0</td>\n",
       "    </tr>\n",
       "    <tr>\n",
       "      <th>301562</th>\n",
       "      <td>41.4</td>\n",
       "      <td>0</td>\n",
       "    </tr>\n",
       "    <tr>\n",
       "      <th>301563</th>\n",
       "      <td>67.1</td>\n",
       "      <td>0</td>\n",
       "    </tr>\n",
       "    <tr>\n",
       "      <th>301564</th>\n",
       "      <td>79.2</td>\n",
       "      <td>1</td>\n",
       "    </tr>\n",
       "    <tr>\n",
       "      <th>301565</th>\n",
       "      <td>71.5</td>\n",
       "      <td>0</td>\n",
       "    </tr>\n",
       "    <tr>\n",
       "      <th>301566</th>\n",
       "      <td>40.1</td>\n",
       "      <td>0</td>\n",
       "    </tr>\n",
       "    <tr>\n",
       "      <th>301567</th>\n",
       "      <td>20.3</td>\n",
       "      <td>0</td>\n",
       "    </tr>\n",
       "    <tr>\n",
       "      <th>301568</th>\n",
       "      <td>57.6</td>\n",
       "      <td>0</td>\n",
       "    </tr>\n",
       "    <tr>\n",
       "      <th>301569</th>\n",
       "      <td>50.6</td>\n",
       "      <td>0</td>\n",
       "    </tr>\n",
       "    <tr>\n",
       "      <th>301570</th>\n",
       "      <td>67.6</td>\n",
       "      <td>0</td>\n",
       "    </tr>\n",
       "    <tr>\n",
       "      <th>301571</th>\n",
       "      <td>30.4</td>\n",
       "      <td>0</td>\n",
       "    </tr>\n",
       "    <tr>\n",
       "      <th>301572</th>\n",
       "      <td>38.3</td>\n",
       "      <td>0</td>\n",
       "    </tr>\n",
       "    <tr>\n",
       "      <th>301573</th>\n",
       "      <td>49.2</td>\n",
       "      <td>0</td>\n",
       "    </tr>\n",
       "    <tr>\n",
       "      <th>301574</th>\n",
       "      <td>72.3</td>\n",
       "      <td>1</td>\n",
       "    </tr>\n",
       "    <tr>\n",
       "      <th>301575</th>\n",
       "      <td>50.4</td>\n",
       "      <td>0</td>\n",
       "    </tr>\n",
       "    <tr>\n",
       "      <th>301576</th>\n",
       "      <td>22.1</td>\n",
       "      <td>0</td>\n",
       "    </tr>\n",
       "    <tr>\n",
       "      <th>301577</th>\n",
       "      <td>74.8</td>\n",
       "      <td>0</td>\n",
       "    </tr>\n",
       "    <tr>\n",
       "      <th>301578</th>\n",
       "      <td>53.0</td>\n",
       "      <td>0</td>\n",
       "    </tr>\n",
       "    <tr>\n",
       "      <th>301579</th>\n",
       "      <td>12.7</td>\n",
       "      <td>0</td>\n",
       "    </tr>\n",
       "    <tr>\n",
       "      <th>301580</th>\n",
       "      <td>25.3</td>\n",
       "      <td>0</td>\n",
       "    </tr>\n",
       "    <tr>\n",
       "      <th>301581</th>\n",
       "      <td>40.9</td>\n",
       "      <td>0</td>\n",
       "    </tr>\n",
       "    <tr>\n",
       "      <th>301582</th>\n",
       "      <td>33.6</td>\n",
       "      <td>0</td>\n",
       "    </tr>\n",
       "    <tr>\n",
       "      <th>301583</th>\n",
       "      <td>24.0</td>\n",
       "      <td>0</td>\n",
       "    </tr>\n",
       "    <tr>\n",
       "      <th>301584</th>\n",
       "      <td>65.3</td>\n",
       "      <td>0</td>\n",
       "    </tr>\n",
       "    <tr>\n",
       "      <th>301585</th>\n",
       "      <td>12.9</td>\n",
       "      <td>0</td>\n",
       "    </tr>\n",
       "    <tr>\n",
       "      <th>301586</th>\n",
       "      <td>60.2</td>\n",
       "      <td>1</td>\n",
       "    </tr>\n",
       "  </tbody>\n",
       "</table>\n",
       "<p>301317 rows × 2 columns</p>\n",
       "</div>"
      ],
      "text/plain": [
       "        flg_percent_match  flg_finalista\n",
       "0                    65.3              0\n",
       "1                    64.2              1\n",
       "2                    62.3              0\n",
       "3                    52.2              0\n",
       "4                    33.0              0\n",
       "5                    74.9              0\n",
       "6                    47.9              0\n",
       "7                    88.0              1\n",
       "8                    88.7              1\n",
       "9                    67.5              1\n",
       "10                   83.5              1\n",
       "11                   43.0              0\n",
       "12                   72.6              0\n",
       "13                   93.5              1\n",
       "14                   68.5              1\n",
       "15                   62.5              0\n",
       "16                   26.7              0\n",
       "17                   98.7              1\n",
       "18                   65.0              1\n",
       "19                   74.2              1\n",
       "20                   55.4              0\n",
       "21                   57.0              0\n",
       "22                   26.4              0\n",
       "23                   69.7              0\n",
       "24                   29.8              0\n",
       "25                   92.8              1\n",
       "26                   98.1              1\n",
       "27                   70.7              1\n",
       "28                   37.6              0\n",
       "29                   39.0              0\n",
       "...                   ...            ...\n",
       "301557               48.6              0\n",
       "301558               18.7              0\n",
       "301559               76.5              1\n",
       "301560               92.9              1\n",
       "301561               58.3              0\n",
       "301562               41.4              0\n",
       "301563               67.1              0\n",
       "301564               79.2              1\n",
       "301565               71.5              0\n",
       "301566               40.1              0\n",
       "301567               20.3              0\n",
       "301568               57.6              0\n",
       "301569               50.6              0\n",
       "301570               67.6              0\n",
       "301571               30.4              0\n",
       "301572               38.3              0\n",
       "301573               49.2              0\n",
       "301574               72.3              1\n",
       "301575               50.4              0\n",
       "301576               22.1              0\n",
       "301577               74.8              0\n",
       "301578               53.0              0\n",
       "301579               12.7              0\n",
       "301580               25.3              0\n",
       "301581               40.9              0\n",
       "301582               33.6              0\n",
       "301583               24.0              0\n",
       "301584               65.3              0\n",
       "301585               12.9              0\n",
       "301586               60.2              1\n",
       "\n",
       "[301317 rows x 2 columns]"
      ]
     },
     "execution_count": 1433,
     "metadata": {},
     "output_type": "execute_result"
    }
   ],
   "source": [
    "X"
   ]
  },
  {
   "cell_type": "code",
   "execution_count": 1434,
   "metadata": {},
   "outputs": [
    {
     "data": {
      "text/plain": [
       "0         0\n",
       "1         1\n",
       "2         0\n",
       "3         0\n",
       "4         0\n",
       "5         0\n",
       "6         0\n",
       "7         1\n",
       "8         1\n",
       "9         1\n",
       "10        1\n",
       "11        0\n",
       "12        0\n",
       "13        1\n",
       "14        1\n",
       "15        0\n",
       "16        0\n",
       "17        1\n",
       "18        1\n",
       "19        1\n",
       "20        0\n",
       "21        0\n",
       "22        0\n",
       "23        0\n",
       "24        0\n",
       "25        1\n",
       "26        1\n",
       "27        1\n",
       "28        0\n",
       "29        0\n",
       "         ..\n",
       "301557    0\n",
       "301558    0\n",
       "301559    1\n",
       "301560    1\n",
       "301561    0\n",
       "301562    0\n",
       "301563    0\n",
       "301564    1\n",
       "301565    0\n",
       "301566    0\n",
       "301567    0\n",
       "301568    0\n",
       "301569    0\n",
       "301570    0\n",
       "301571    0\n",
       "301572    0\n",
       "301573    0\n",
       "301574    1\n",
       "301575    0\n",
       "301576    0\n",
       "301577    0\n",
       "301578    0\n",
       "301579    0\n",
       "301580    0\n",
       "301581    0\n",
       "301582    0\n",
       "301583    0\n",
       "301584    0\n",
       "301585    0\n",
       "301586    1\n",
       "Name: flg_finalista, Length: 301317, dtype: int64"
      ]
     },
     "execution_count": 1434,
     "metadata": {},
     "output_type": "execute_result"
    }
   ],
   "source": [
    "y"
   ]
  },
  {
   "cell_type": "markdown",
   "metadata": {},
   "source": [
    "### Implementamos el modelo"
   ]
  },
  {
   "cell_type": "code",
   "execution_count": 1435,
   "metadata": {},
   "outputs": [
    {
     "name": "stdout",
     "output_type": "stream",
     "text": [
      "Requirement already satisfied: statsmodels in c:\\users\\usuario\\anaconda3\\lib\\site-packages (0.9.0)\n",
      "Requirement already satisfied: patsy in c:\\users\\usuario\\anaconda3\\lib\\site-packages (0.5.0)\n",
      "Requirement already satisfied: six in c:\\users\\usuario\\anaconda3\\lib\\site-packages (from patsy) (1.11.0)\n",
      "Requirement already satisfied: numpy>=1.4 in c:\\users\\usuario\\anaconda3\\lib\\site-packages (from patsy) (1.14.3)\n"
     ]
    }
   ],
   "source": [
    "!pip install statsmodels\n",
    "!pip install patsy"
   ]
  },
  {
   "cell_type": "code",
   "execution_count": 1436,
   "metadata": {},
   "outputs": [],
   "source": [
    "import statsmodels.api as sm"
   ]
  },
  {
   "cell_type": "code",
   "execution_count": 1437,
   "metadata": {},
   "outputs": [],
   "source": [
    "logit_model = sm.Logit(y,X)"
   ]
  },
  {
   "cell_type": "code",
   "execution_count": 1438,
   "metadata": {},
   "outputs": [
    {
     "name": "stdout",
     "output_type": "stream",
     "text": [
      "Warning: Maximum number of iterations has been exceeded.\n",
      "         Current function value: 0.000000\n",
      "         Iterations: 35\n"
     ]
    },
    {
     "name": "stderr",
     "output_type": "stream",
     "text": [
      "C:\\Users\\Usuario\\Anaconda3\\lib\\site-packages\\statsmodels\\base\\model.py:508: ConvergenceWarning: Maximum Likelihood optimization failed to converge. Check mle_retvals\n",
      "  \"Check mle_retvals\", ConvergenceWarning)\n"
     ]
    }
   ],
   "source": [
    "result = logit_model.fit()"
   ]
  },
  {
   "cell_type": "code",
   "execution_count": 1439,
   "metadata": {},
   "outputs": [
    {
     "name": "stdout",
     "output_type": "stream",
     "text": [
      "                           Logit Regression Results                           \n",
      "==============================================================================\n",
      "Dep. Variable:          flg_finalista   No. Observations:               301317\n",
      "Model:                          Logit   Df Residuals:                   301315\n",
      "Method:                           MLE   Df Model:                            1\n",
      "Date:                Sun, 23 Sep 2018   Pseudo R-squ.:                   1.000\n",
      "Time:                        01:35:26   Log-Likelihood:            -0.00057516\n",
      "converged:                      False   LL-Null:                   -1.9182e+05\n",
      "                                        LLR p-value:                     0.000\n",
      "=====================================================================================\n",
      "                        coef    std err          z      P>|z|      [0.025      0.975]\n",
      "-------------------------------------------------------------------------------------\n",
      "flg_percent_match    -1.5182      4.103     -0.370      0.711      -9.561       6.524\n",
      "flg_finalista       169.0502    429.082      0.394      0.694    -671.935    1010.035\n",
      "=====================================================================================\n",
      "\n",
      "Complete Separation: The results show that there iscomplete separation.\n",
      "In this case the Maximum Likelihood Estimator does not exist and the parameters\n",
      "are not identified.\n"
     ]
    }
   ],
   "source": [
    "print(result.summary())"
   ]
  },
  {
   "cell_type": "markdown",
   "metadata": {},
   "source": [
    "### Ajuste del modelo"
   ]
  },
  {
   "cell_type": "code",
   "execution_count": 1440,
   "metadata": {},
   "outputs": [],
   "source": [
    "from sklearn.model_selection import train_test_split\n",
    "from sklearn import metrics"
   ]
  },
  {
   "cell_type": "code",
   "execution_count": 1441,
   "metadata": {},
   "outputs": [],
   "source": [
    "X_train, X_test, y_train, y_test = train_test_split(X, y, test_size=0.3, random_state=0)"
   ]
  },
  {
   "cell_type": "code",
   "execution_count": 1442,
   "metadata": {},
   "outputs": [
    {
     "data": {
      "text/plain": [
       "LogisticRegression(C=1.0, class_weight=None, dual=False, fit_intercept=True,\n",
       "          intercept_scaling=1, max_iter=100, multi_class='ovr', n_jobs=1,\n",
       "          penalty='l2', random_state=None, solver='liblinear', tol=0.0001,\n",
       "          verbose=0, warm_start=False)"
      ]
     },
     "execution_count": 1442,
     "metadata": {},
     "output_type": "execute_result"
    }
   ],
   "source": [
    "logreg = LogisticRegression()\n",
    "logreg.fit(X_train, y_train)"
   ]
  },
  {
   "cell_type": "code",
   "execution_count": 1443,
   "metadata": {},
   "outputs": [
    {
     "name": "stdout",
     "output_type": "stream",
     "text": [
      "Accuracy of logistic regression classifier on test set: 1.00\n"
     ]
    }
   ],
   "source": [
    "y_pred = logreg.predict(X_test)\n",
    "print('Accuracy of logistic regression classifier on test set: {:.2f}'.format(logreg.score(X_test, y_test)))"
   ]
  },
  {
   "cell_type": "code",
   "execution_count": 1444,
   "metadata": {},
   "outputs": [
    {
     "name": "stdout",
     "output_type": "stream",
     "text": [
      "[[60290     0]\n",
      " [    0 30106]]\n"
     ]
    }
   ],
   "source": [
    "from sklearn.metrics import confusion_matrix\n",
    "confusion_matrix = confusion_matrix(y_test, y_pred)\n",
    "print(confusion_matrix)"
   ]
  },
  {
   "cell_type": "markdown",
   "metadata": {},
   "source": [
    "## Curva ROC"
   ]
  },
  {
   "cell_type": "code",
   "execution_count": 1445,
   "metadata": {},
   "outputs": [
    {
     "data": {
      "image/png": "[encoded data removed]",
      "text/plain": [
       "<Figure size 1080x576 with 1 Axes>"
      ]
     },
     "metadata": {},
     "output_type": "display_data"
    }
   ],
   "source": [
    "from sklearn.metrics import roc_auc_score\n",
    "from sklearn.metrics import roc_curve\n",
    "logit_roc_auc = roc_auc_score(y_test, logreg.predict(X_test))\n",
    "fpr, tpr, thresholds = roc_curve(y_test, logreg.predict_proba(X_test)[:,1])\n",
    "plt.figure(figsize=(15,8)) #definir el tamaño de la imagen\n",
    "#plt.figure()\n",
    "plt.plot(fpr, tpr, label='Logistic Regression (area = %0.2f)' % logit_roc_auc)\n",
    "plt.plot([0, 1], [0, 1],'r--')\n",
    "plt.xlim([0.0, 1.0])\n",
    "plt.ylim([0.0, 1.05])\n",
    "plt.xlabel('False Positive Rate')\n",
    "plt.ylabel('True Positive Rate')\n",
    "plt.title('Receiver operating characteristic')\n",
    "plt.legend(loc=\"lower right\")\n",
    "plt.savefig('Log_ROC')\n",
    "plt.show()"
   ]
  },
  {
   "cell_type": "markdown",
   "metadata": {},
   "source": [
    "![Sklearn!](400x400_avatar/images.png \"Scikit-learn\")\n"
   ]
  },
  {
   "cell_type": "code",
   "execution_count": null,
   "metadata": {},
   "outputs": [],
   "source": []
  }
 ],
 "metadata": {
  "kernelspec": {
   "display_name": "Python 3",
   "language": "python",
   "name": "python3"
  },
  "language_info": {
   "codemirror_mode": {
    "name": "ipython",
    "version": 3
   },
   "file_extension": ".py",
   "mimetype": "text/x-python",
   "name": "python",
   "nbconvert_exporter": "python",
   "pygments_lexer": "ipython3",
   "version": "3.6.5"
  }
 },
 "nbformat": 4,
 "nbformat_minor": 2
}
